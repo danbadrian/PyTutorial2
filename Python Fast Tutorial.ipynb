{
 "cells": [
  {
   "cell_type": "markdown",
   "metadata": {},
   "source": [
    "## This is a 60 minutes tutorial for people without time to spend and want to lear Python. Forget about the details. Cut straight to the point."
   ]
  },
  {
   "cell_type": "markdown",
   "metadata": {},
   "source": [
    "#### First step is to install python in you computer. Suggested distribution is Anaconda:\n",
    "\n",
    "https://www.continuum.io/downloads\n",
    "\n",
    "2.7 or 3.x ?\n",
    "\n",
    "2.7 pros: More stable, more libs, faster\n",
    "3.x pros: better string handling, more feature updates, intuitive integer division\n",
    "\n",
    "Most of relevant differences are in intermediate and advanced features. By the time you'll be impacted by that you should already be capable of decide which suits you better.\n",
    "\n",
    "This tutorial is based on 2.7.12 version. The focus of this tutorial is for Data Analytics/Data Science professionals and students."
   ]
  },
  {
   "cell_type": "markdown",
   "metadata": {},
   "source": [
    "#### My Python is installed. How do I start coding?\n",
    "\n",
    "You can use any code editor or GUI of your preference. I personally like python IDLE for coding long scripts and projects and Notebook for data analysis and storytelling. Both can be launched at Anaconda Prompt by typing either: idle or jupyter notebook"
   ]
  },
  {
   "cell_type": "markdown",
   "metadata": {},
   "source": [
    "#### First things first!\n",
    "###### What can I create with python?\n",
    "Python is a scripting and object oriented programming language where you can create variables, functions, classes and objects and then 'play' with them. Being a variable the most obvious starting point let's start with it.\n",
    "To assign a value to a variable you just need \"=\" statement like the below:"
   ]
  },
  {
   "cell_type": "code",
   "execution_count": 49,
   "metadata": {
    "collapsed": false
   },
   "outputs": [],
   "source": [
    "a = 1\n",
    "b = 'Analytics'\n",
    "c = 3.2"
   ]
  },
  {
   "cell_type": "markdown",
   "metadata": {},
   "source": [
    "When creating values just be careful to not use taken names from python. It's not something to worry about now. Another important thing is that variable, functions and object names are case sensitive. So variable \"mynumber\" != \"MyNumber\". \n",
    "\n",
    "Also when creating a variable you don't have to declare the type of it, Python will understand what you want and create it correctly. If you want to change it you me force it later.\n",
    "\n",
    "If you want to check the value of a variable you can all it or to ensure it will work ask for a <b>print</b> statement:"
   ]
  },
  {
   "cell_type": "code",
   "execution_count": 50,
   "metadata": {
    "collapsed": false
   },
   "outputs": [
    {
     "name": "stdout",
     "output_type": "stream",
     "text": [
      "1\n",
      "Analytics\n",
      "3.2\n"
     ]
    },
    {
     "ename": "NameError",
     "evalue": "name 'C' is not defined",
     "output_type": "error",
     "traceback": [
      "\u001b[0;31m---------------------------------------------------------------------------\u001b[0m",
      "\u001b[0;31mNameError\u001b[0m                                 Traceback (most recent call last)",
      "\u001b[0;32m<ipython-input-50-32d30e2366f3>\u001b[0m in \u001b[0;36m<module>\u001b[0;34m()\u001b[0m\n\u001b[1;32m      2\u001b[0m \u001b[1;32mprint\u001b[0m \u001b[0mb\u001b[0m\u001b[1;33m\u001b[0m\u001b[0m\n\u001b[1;32m      3\u001b[0m \u001b[1;32mprint\u001b[0m \u001b[0mc\u001b[0m\u001b[1;33m\u001b[0m\u001b[0m\n\u001b[0;32m----> 4\u001b[0;31m \u001b[1;32mprint\u001b[0m \u001b[0mC\u001b[0m\u001b[1;33m\u001b[0m\u001b[0m\n\u001b[0m",
      "\u001b[0;31mNameError\u001b[0m: name 'C' is not defined"
     ]
    }
   ],
   "source": [
    "print a\n",
    "print b\n",
    "print c\n",
    "print C"
   ]
  },
  {
   "cell_type": "markdown",
   "metadata": {},
   "source": [
    "###### But create variables on top of what?\n",
    "Python has 8 natural built-in objetc types you can use as base:\n",
    "####    - String:\n",
    "To explicitly declare a string you need start and finish the text with single or double quote marks."
   ]
  },
  {
   "cell_type": "code",
   "execution_count": null,
   "metadata": {
    "collapsed": false
   },
   "outputs": [],
   "source": [
    "# In Python we use # to start inline comments\n",
    "myString = 'This cool sequence of letters'\n",
    "myQuoteString = \"You can insert 'quotes' inside a string\"\n",
    "print myString\n",
    "print myQuoteString\n",
    "print type(myString) # Tells you the type of the the varible\n",
    "print len(myQuoteString) # Tells you the len of object if aplicable"
   ]
  },
  {
   "cell_type": "markdown",
   "metadata": {},
   "source": [
    "####    - Integer:\n",
    "An integer a number with no information after the decimal point. In python 2.X the division of 2 integers result in a integer. In python 3.X a division of 2 integer may result in a float number if that the case. An int has not length (len())"
   ]
  },
  {
   "cell_type": "code",
   "execution_count": null,
   "metadata": {
    "collapsed": false
   },
   "outputs": [],
   "source": [
    "a, b, c = 2,3,4\n",
    "print c/a\n",
    "print b/a\n",
    "print type(a)"
   ]
  },
  {
   "cell_type": "markdown",
   "metadata": {},
   "source": [
    "####    - Float:\n",
    "A float is very similar to a Integer. Except for the fact that a float has information after the decimal point. A division between floats or an integer and a float results in a float."
   ]
  },
  {
   "cell_type": "code",
   "execution_count": null,
   "metadata": {
    "collapsed": false
   },
   "outputs": [],
   "source": [
    "d,e = 1.5, 0.5\n",
    "print c/d\n",
    "print b/e\n",
    "print type(d)"
   ]
  },
  {
   "cell_type": "markdown",
   "metadata": {},
   "source": [
    "   ####    - List:\n",
    "A list is one of the most powerful objects in Python. A list is a sequence of objects grouped in just one object. A list can be a group of integers, floats, strings or even a group of lists. It's also ok to mix different objects inside a list. To define a list you need to put the elements inside square brackes and separated by commas."
   ]
  },
  {
   "cell_type": "code",
   "execution_count": null,
   "metadata": {
    "collapsed": false
   },
   "outputs": [],
   "source": [
    "myList = [6,8,2,7,102,5,6,6]\n",
    "myList2 = ['house','door','window']\n",
    "myList3 = [[0,1,2],'some string', 1.7, 999]\n",
    "print len(myList3)\n",
    "print type(myList)"
   ]
  },
  {
   "cell_type": "markdown",
   "metadata": {},
   "source": [
    "#### - Tuple:\n",
    "A tuple is very similar to a list. It has the same format and characteristics but a tuple is immutable once created. Due to that property the tuple is usually under used but comes in hand when you want to protect the content of your variable. To create a tuple you need to put the elements inside brackets and separated by commas."
   ]
  },
  {
   "cell_type": "code",
   "execution_count": null,
   "metadata": {
    "collapsed": false
   },
   "outputs": [],
   "source": [
    "myTuple = (5,6,8,1,2)\n",
    "myTuple2 = ([1,4,5],'age', 88,('a','tuple','inside','a','tuple'),5.98)\n",
    "print type(myTuple)\n",
    "print len(myTuple2)"
   ]
  },
  {
   "cell_type": "markdown",
   "metadata": {},
   "source": [
    "#### - Dictionary:\n",
    "The dictionary is the most complex basic object of Python. It has the structure of keys:values. Dictionaries are very powerful and diferently from lists and tuples they don't have indexes. If you want to retrieve a value from it you just have to ask by the key. Keys in dictionaries must be unique. Dictionaries elements are inside braces:"
   ]
  },
  {
   "cell_type": "code",
   "execution_count": null,
   "metadata": {
    "collapsed": false
   },
   "outputs": [],
   "source": [
    "myDict = {'Name':'Jonh Doe', 'Age':'33', 'City':'Dallas'}\n",
    "print myDict.keys()\n",
    "print myDict.values()\n",
    "print myDict['Name']"
   ]
  },
  {
   "cell_type": "markdown",
   "metadata": {},
   "source": [
    "#### - Boolean\n",
    "A boolean variable is the output of a logic test. It can assume two values: True or False. Please pay attention for the first letter, it must be a capital letter. They are very useful to control de flow of your code, break while loops and if conditions:"
   ]
  },
  {
   "cell_type": "code",
   "execution_count": null,
   "metadata": {
    "collapsed": false
   },
   "outputs": [],
   "source": [
    "a = 3\n",
    "b = 3.0\n",
    "c = '3'\n",
    "print a == b\n",
    "print a == c\n",
    "print b != c\n",
    "print type(True), type(False)"
   ]
  },
  {
   "cell_type": "markdown",
   "metadata": {},
   "source": [
    "#### - None\n",
    "A None object has no logical value. It's not 0 nor an empty string or list. It's None. It's similar to Null in SQL. It may come in hand when creating user defined functions or controling some execution flows, but logically it's pretty useless."
   ]
  },
  {
   "cell_type": "code",
   "execution_count": 48,
   "metadata": {
    "collapsed": false
   },
   "outputs": [
    {
     "name": "stdout",
     "output_type": "stream",
     "text": [
      "None\n",
      "<type 'NoneType'>\n"
     ]
    }
   ],
   "source": [
    "test = None\n",
    "print test\n",
    "print type(test)"
   ]
  },
  {
   "cell_type": "markdown",
   "metadata": {},
   "source": [
    "##  - Index and Slicing:\n",
    "\n",
    "One of the most relevant properties of a list, tuple and strings are their index and slicing properties. As a rule of thumb you can use the following logic: If an object has a defined <b>len()</b> then it can be sliced or called in indexes. And soon you will see that almost every object that can be slice is also an iterable.\n",
    "\n",
    "Lets say we have the following string:"
   ]
  },
  {
   "cell_type": "code",
   "execution_count": 51,
   "metadata": {
    "collapsed": true
   },
   "outputs": [],
   "source": [
    "foo = 'Very long string so it will be very interest to check indexing and slicing here'"
   ]
  },
  {
   "cell_type": "markdown",
   "metadata": {},
   "source": [
    "The string <b>foo</b> can be called by parts, all you have to do is call the variable name followed by the desired index envolved by square brackets. The index in Python start on 0 and not in 1. So the very first letter 'V' is foo[0]:"
   ]
  },
  {
   "cell_type": "code",
   "execution_count": 53,
   "metadata": {
    "collapsed": false
   },
   "outputs": [
    {
     "name": "stdout",
     "output_type": "stream",
     "text": [
      "V s e h\n"
     ]
    }
   ],
   "source": [
    "print foo[0], foo[10], foo[-1], foo[-4]"
   ]
  },
  {
   "cell_type": "markdown",
   "metadata": {},
   "source": [
    "As you can see another cool property of indexing is the reverse calling. If you add a minus sign before the positions it counts backwards. Since -0 does not exists the last position is -1.\n",
    "\n",
    "The idea of slicing is instead of calling an index you call a sequence inside a string, separated by colons. For example you should write foo[X:Y] where you will select all characters between X and Y including X but <b>NOT</b> including Y."
   ]
  },
  {
   "cell_type": "code",
   "execution_count": 75,
   "metadata": {
    "collapsed": false
   },
   "outputs": [
    {
     "name": "stdout",
     "output_type": "stream",
     "text": [
      "Very \n",
      "g so it \n",
      "icing her\n",
      "\n",
      "Vr ogsrn oi ilb eyit\n",
      "Very long strin\n",
      "g so it will be very interest to check indexing and slicing here\n"
     ]
    }
   ],
   "source": [
    "print foo[0:5]\n",
    "print foo[15:23]\n",
    "print foo[-10:-1]\n",
    "print foo[-1:-5] # This you can't do\n",
    "print foo[0:40:2] # goes in steps of 2\n",
    "print foo[:15] # from beginning to 14th position\n",
    "print foo[15:] # from 15th position to end"
   ]
  },
  {
   "cell_type": "markdown",
   "metadata": {},
   "source": [
    "###### Quick Challenge:\n",
    "Base on what you learned so far. Are you able to write a string backwars?"
   ]
  },
  {
   "cell_type": "code",
   "execution_count": null,
   "metadata": {
    "collapsed": true
   },
   "outputs": [],
   "source": []
  },
  {
   "cell_type": "markdown",
   "metadata": {},
   "source": [
    "The logic of slicing also applies for tuples and lists. But always remember that tubles does not accept substitutions:"
   ]
  },
  {
   "cell_type": "code",
   "execution_count": 74,
   "metadata": {
    "collapsed": false
   },
   "outputs": [
    {
     "name": "stdout",
     "output_type": "stream",
     "text": [
      "4\n",
      "[1, 2, 999, 4, 5]\n"
     ]
    }
   ],
   "source": [
    "a_list = [1,2,3,4,5]\n",
    "print a_list[-2]\n",
    "a_list[2]= 999\n",
    "print a_list"
   ]
  }
 ],
 "metadata": {
  "anaconda-cloud": {},
  "kernelspec": {
   "display_name": "Python [conda root]",
   "language": "python",
   "name": "conda-root-py"
  },
  "language_info": {
   "codemirror_mode": {
    "name": "ipython",
    "version": 2
   },
   "file_extension": ".py",
   "mimetype": "text/x-python",
   "name": "python",
   "nbconvert_exporter": "python",
   "pygments_lexer": "ipython2",
   "version": "2.7.12"
  }
 },
 "nbformat": 4,
 "nbformat_minor": 1
}
